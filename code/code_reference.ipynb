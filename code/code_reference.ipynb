{
 "cells": [
  {
   "cell_type": "markdown",
   "metadata": {},
   "source": [
    "# 레퍼런스 기반"
   ]
  },
  {
   "cell_type": "code",
   "execution_count": 42,
   "metadata": {},
   "outputs": [],
   "source": [
    "import pandas as pd\n",
    "import numpy as np"
   ]
  },
  {
   "cell_type": "markdown",
   "metadata": {},
   "source": [
    "# 데이터 열기"
   ]
  },
  {
   "cell_type": "code",
   "execution_count": 43,
   "metadata": {},
   "outputs": [],
   "source": [
    "data = pd.read_excel(\"../data/eBayAuctions.xls\")"
   ]
  },
  {
   "cell_type": "code",
   "execution_count": 44,
   "metadata": {},
   "outputs": [
    {
     "data": {
      "text/html": [
       "<div>\n",
       "<style scoped>\n",
       "    .dataframe tbody tr th:only-of-type {\n",
       "        vertical-align: middle;\n",
       "    }\n",
       "\n",
       "    .dataframe tbody tr th {\n",
       "        vertical-align: top;\n",
       "    }\n",
       "\n",
       "    .dataframe thead th {\n",
       "        text-align: right;\n",
       "    }\n",
       "</style>\n",
       "<table border=\"1\" class=\"dataframe\">\n",
       "  <thead>\n",
       "    <tr style=\"text-align: right;\">\n",
       "      <th></th>\n",
       "      <th>Category</th>\n",
       "      <th>currency</th>\n",
       "      <th>sellerRating</th>\n",
       "      <th>Duration</th>\n",
       "      <th>endDay</th>\n",
       "      <th>ClosePrice</th>\n",
       "      <th>OpenPrice</th>\n",
       "      <th>Competitive?</th>\n",
       "    </tr>\n",
       "  </thead>\n",
       "  <tbody>\n",
       "    <tr>\n",
       "      <th>0</th>\n",
       "      <td>Music/Movie/Game</td>\n",
       "      <td>US</td>\n",
       "      <td>3249</td>\n",
       "      <td>5</td>\n",
       "      <td>Mon</td>\n",
       "      <td>0.01</td>\n",
       "      <td>0.01</td>\n",
       "      <td>0</td>\n",
       "    </tr>\n",
       "    <tr>\n",
       "      <th>1</th>\n",
       "      <td>Music/Movie/Game</td>\n",
       "      <td>US</td>\n",
       "      <td>3249</td>\n",
       "      <td>5</td>\n",
       "      <td>Mon</td>\n",
       "      <td>0.01</td>\n",
       "      <td>0.01</td>\n",
       "      <td>0</td>\n",
       "    </tr>\n",
       "    <tr>\n",
       "      <th>2</th>\n",
       "      <td>Music/Movie/Game</td>\n",
       "      <td>US</td>\n",
       "      <td>3249</td>\n",
       "      <td>5</td>\n",
       "      <td>Mon</td>\n",
       "      <td>0.01</td>\n",
       "      <td>0.01</td>\n",
       "      <td>0</td>\n",
       "    </tr>\n",
       "    <tr>\n",
       "      <th>3</th>\n",
       "      <td>Music/Movie/Game</td>\n",
       "      <td>US</td>\n",
       "      <td>3249</td>\n",
       "      <td>5</td>\n",
       "      <td>Mon</td>\n",
       "      <td>0.01</td>\n",
       "      <td>0.01</td>\n",
       "      <td>0</td>\n",
       "    </tr>\n",
       "    <tr>\n",
       "      <th>4</th>\n",
       "      <td>Music/Movie/Game</td>\n",
       "      <td>US</td>\n",
       "      <td>3249</td>\n",
       "      <td>5</td>\n",
       "      <td>Mon</td>\n",
       "      <td>0.01</td>\n",
       "      <td>0.01</td>\n",
       "      <td>0</td>\n",
       "    </tr>\n",
       "  </tbody>\n",
       "</table>\n",
       "</div>"
      ],
      "text/plain": [
       "           Category currency  sellerRating  Duration endDay  ClosePrice  \\\n",
       "0  Music/Movie/Game       US          3249         5    Mon        0.01   \n",
       "1  Music/Movie/Game       US          3249         5    Mon        0.01   \n",
       "2  Music/Movie/Game       US          3249         5    Mon        0.01   \n",
       "3  Music/Movie/Game       US          3249         5    Mon        0.01   \n",
       "4  Music/Movie/Game       US          3249         5    Mon        0.01   \n",
       "\n",
       "   OpenPrice  Competitive?  \n",
       "0       0.01             0  \n",
       "1       0.01             0  \n",
       "2       0.01             0  \n",
       "3       0.01             0  \n",
       "4       0.01             0  "
      ]
     },
     "execution_count": 44,
     "metadata": {},
     "output_type": "execute_result"
    }
   ],
   "source": [
    "data.head()"
   ]
  },
  {
   "cell_type": "code",
   "execution_count": 45,
   "metadata": {},
   "outputs": [
    {
     "data": {
      "text/html": [
       "<div>\n",
       "<style scoped>\n",
       "    .dataframe tbody tr th:only-of-type {\n",
       "        vertical-align: middle;\n",
       "    }\n",
       "\n",
       "    .dataframe tbody tr th {\n",
       "        vertical-align: top;\n",
       "    }\n",
       "\n",
       "    .dataframe thead th {\n",
       "        text-align: right;\n",
       "    }\n",
       "</style>\n",
       "<table border=\"1\" class=\"dataframe\">\n",
       "  <thead>\n",
       "    <tr style=\"text-align: right;\">\n",
       "      <th></th>\n",
       "      <th>Category</th>\n",
       "      <th>currency</th>\n",
       "      <th>sellerRating</th>\n",
       "      <th>Duration</th>\n",
       "      <th>endDay</th>\n",
       "      <th>ClosePrice</th>\n",
       "      <th>OpenPrice</th>\n",
       "      <th>Competitive?</th>\n",
       "    </tr>\n",
       "  </thead>\n",
       "  <tbody>\n",
       "    <tr>\n",
       "      <th>1967</th>\n",
       "      <td>Automotive</td>\n",
       "      <td>US</td>\n",
       "      <td>2992</td>\n",
       "      <td>5</td>\n",
       "      <td>Sun</td>\n",
       "      <td>359.95</td>\n",
       "      <td>359.95</td>\n",
       "      <td>0</td>\n",
       "    </tr>\n",
       "    <tr>\n",
       "      <th>1968</th>\n",
       "      <td>Automotive</td>\n",
       "      <td>US</td>\n",
       "      <td>21</td>\n",
       "      <td>5</td>\n",
       "      <td>Sat</td>\n",
       "      <td>610.00</td>\n",
       "      <td>300.00</td>\n",
       "      <td>1</td>\n",
       "    </tr>\n",
       "    <tr>\n",
       "      <th>1969</th>\n",
       "      <td>Automotive</td>\n",
       "      <td>US</td>\n",
       "      <td>1400</td>\n",
       "      <td>5</td>\n",
       "      <td>Mon</td>\n",
       "      <td>549.00</td>\n",
       "      <td>549.00</td>\n",
       "      <td>0</td>\n",
       "    </tr>\n",
       "    <tr>\n",
       "      <th>1970</th>\n",
       "      <td>Automotive</td>\n",
       "      <td>US</td>\n",
       "      <td>57</td>\n",
       "      <td>7</td>\n",
       "      <td>Fri</td>\n",
       "      <td>820.00</td>\n",
       "      <td>650.00</td>\n",
       "      <td>1</td>\n",
       "    </tr>\n",
       "    <tr>\n",
       "      <th>1971</th>\n",
       "      <td>Automotive</td>\n",
       "      <td>US</td>\n",
       "      <td>145</td>\n",
       "      <td>7</td>\n",
       "      <td>Sat</td>\n",
       "      <td>999.00</td>\n",
       "      <td>999.00</td>\n",
       "      <td>0</td>\n",
       "    </tr>\n",
       "  </tbody>\n",
       "</table>\n",
       "</div>"
      ],
      "text/plain": [
       "        Category currency  sellerRating  Duration endDay  ClosePrice  \\\n",
       "1967  Automotive       US          2992         5    Sun      359.95   \n",
       "1968  Automotive       US            21         5    Sat      610.00   \n",
       "1969  Automotive       US          1400         5    Mon      549.00   \n",
       "1970  Automotive       US            57         7    Fri      820.00   \n",
       "1971  Automotive       US           145         7    Sat      999.00   \n",
       "\n",
       "      OpenPrice  Competitive?  \n",
       "1967     359.95             0  \n",
       "1968     300.00             1  \n",
       "1969     549.00             0  \n",
       "1970     650.00             1  \n",
       "1971     999.00             0  "
      ]
     },
     "execution_count": 45,
     "metadata": {},
     "output_type": "execute_result"
    }
   ],
   "source": [
    "data.tail()"
   ]
  },
  {
   "cell_type": "markdown",
   "metadata": {},
   "source": [
    "## 결측치 확인"
   ]
  },
  {
   "cell_type": "code",
   "execution_count": 46,
   "metadata": {},
   "outputs": [
    {
     "data": {
      "text/plain": [
       "Category        0\n",
       "currency        0\n",
       "sellerRating    0\n",
       "Duration        0\n",
       "endDay          0\n",
       "ClosePrice      0\n",
       "OpenPrice       0\n",
       "Competitive?    0\n",
       "dtype: int64"
      ]
     },
     "execution_count": 46,
     "metadata": {},
     "output_type": "execute_result"
    }
   ],
   "source": [
    "data.isnull().sum()"
   ]
  },
  {
   "cell_type": "code",
   "execution_count": 47,
   "metadata": {},
   "outputs": [
    {
     "data": {
      "text/html": [
       "<div>\n",
       "<style scoped>\n",
       "    .dataframe tbody tr th:only-of-type {\n",
       "        vertical-align: middle;\n",
       "    }\n",
       "\n",
       "    .dataframe tbody tr th {\n",
       "        vertical-align: top;\n",
       "    }\n",
       "\n",
       "    .dataframe thead th {\n",
       "        text-align: right;\n",
       "    }\n",
       "</style>\n",
       "<table border=\"1\" class=\"dataframe\">\n",
       "  <thead>\n",
       "    <tr style=\"text-align: right;\">\n",
       "      <th></th>\n",
       "      <th>sellerRating</th>\n",
       "      <th>Duration</th>\n",
       "      <th>ClosePrice</th>\n",
       "      <th>OpenPrice</th>\n",
       "      <th>Competitive?</th>\n",
       "    </tr>\n",
       "  </thead>\n",
       "  <tbody>\n",
       "    <tr>\n",
       "      <th>count</th>\n",
       "      <td>1972.000000</td>\n",
       "      <td>1972.000000</td>\n",
       "      <td>1972.000000</td>\n",
       "      <td>1972.000000</td>\n",
       "      <td>1972.000000</td>\n",
       "    </tr>\n",
       "    <tr>\n",
       "      <th>mean</th>\n",
       "      <td>3560.238337</td>\n",
       "      <td>6.486308</td>\n",
       "      <td>36.449087</td>\n",
       "      <td>12.926026</td>\n",
       "      <td>0.540568</td>\n",
       "    </tr>\n",
       "    <tr>\n",
       "      <th>std</th>\n",
       "      <td>5973.011033</td>\n",
       "      <td>2.052906</td>\n",
       "      <td>89.493858</td>\n",
       "      <td>38.856214</td>\n",
       "      <td>0.498478</td>\n",
       "    </tr>\n",
       "    <tr>\n",
       "      <th>min</th>\n",
       "      <td>0.000000</td>\n",
       "      <td>1.000000</td>\n",
       "      <td>0.010000</td>\n",
       "      <td>0.010000</td>\n",
       "      <td>0.000000</td>\n",
       "    </tr>\n",
       "    <tr>\n",
       "      <th>25%</th>\n",
       "      <td>595.000000</td>\n",
       "      <td>5.000000</td>\n",
       "      <td>4.907500</td>\n",
       "      <td>1.230000</td>\n",
       "      <td>0.000000</td>\n",
       "    </tr>\n",
       "    <tr>\n",
       "      <th>50%</th>\n",
       "      <td>1853.000000</td>\n",
       "      <td>7.000000</td>\n",
       "      <td>9.995000</td>\n",
       "      <td>4.500000</td>\n",
       "      <td>1.000000</td>\n",
       "    </tr>\n",
       "    <tr>\n",
       "      <th>75%</th>\n",
       "      <td>3380.000000</td>\n",
       "      <td>7.000000</td>\n",
       "      <td>28.000000</td>\n",
       "      <td>9.990000</td>\n",
       "      <td>1.000000</td>\n",
       "    </tr>\n",
       "    <tr>\n",
       "      <th>max</th>\n",
       "      <td>37727.000000</td>\n",
       "      <td>10.000000</td>\n",
       "      <td>999.000000</td>\n",
       "      <td>999.000000</td>\n",
       "      <td>1.000000</td>\n",
       "    </tr>\n",
       "  </tbody>\n",
       "</table>\n",
       "</div>"
      ],
      "text/plain": [
       "       sellerRating     Duration   ClosePrice    OpenPrice  Competitive?\n",
       "count   1972.000000  1972.000000  1972.000000  1972.000000   1972.000000\n",
       "mean    3560.238337     6.486308    36.449087    12.926026      0.540568\n",
       "std     5973.011033     2.052906    89.493858    38.856214      0.498478\n",
       "min        0.000000     1.000000     0.010000     0.010000      0.000000\n",
       "25%      595.000000     5.000000     4.907500     1.230000      0.000000\n",
       "50%     1853.000000     7.000000     9.995000     4.500000      1.000000\n",
       "75%     3380.000000     7.000000    28.000000     9.990000      1.000000\n",
       "max    37727.000000    10.000000   999.000000   999.000000      1.000000"
      ]
     },
     "execution_count": 47,
     "metadata": {},
     "output_type": "execute_result"
    }
   ],
   "source": [
    "data.describe()"
   ]
  },
  {
   "cell_type": "markdown",
   "metadata": {},
   "source": [
    "# 변수변환\n",
    "1. Competitive?의 이름 바꾸기\n",
    "2. Competitive : 범주형으로 변환하기\n",
    "3. Duration : 범주형으로 변환하기"
   ]
  },
  {
   "cell_type": "code",
   "execution_count": 48,
   "metadata": {},
   "outputs": [],
   "source": [
    "data = data.rename(columns={'Competitive?' : 'Competitive'})"
   ]
  },
  {
   "cell_type": "code",
   "execution_count": 49,
   "metadata": {},
   "outputs": [],
   "source": [
    "data['Competitive'] = data['Competitive'].astype('category')"
   ]
  },
  {
   "cell_type": "code",
   "execution_count": 50,
   "metadata": {},
   "outputs": [],
   "source": [
    "data['Duration'] = data['Duration'].astype('category')"
   ]
  },
  {
   "cell_type": "markdown",
   "metadata": {},
   "source": [
    "# EDA 수행\n",
    "\n",
    "1. 범주형 변수 / 수치형 변수 구분 \n",
    "2. 범주형 변수에서 level 확인\n",
    "3. 수치형 변수의 히스토그램, 박스플롯 그리기"
   ]
  },
  {
   "cell_type": "code",
   "execution_count": 51,
   "metadata": {},
   "outputs": [],
   "source": [
    "# 시각화 라이브러리 불러오기\n",
    "import matplotlib.pyplot as plt\n",
    "import seaborn as sns"
   ]
  },
  {
   "cell_type": "markdown",
   "metadata": {},
   "source": [
    "## 범주형 / 수치형 구분"
   ]
  },
  {
   "cell_type": "code",
   "execution_count": 52,
   "metadata": {},
   "outputs": [],
   "source": [
    "numeric = data.select_dtypes(include = np.number)\n",
    "category = data.select_dtypes(exclude = np.number)"
   ]
  },
  {
   "cell_type": "code",
   "execution_count": 53,
   "metadata": {},
   "outputs": [],
   "source": [
    "numeric_list = numeric.columns.tolist()\n",
    "category_list = category.columns.tolist()"
   ]
  },
  {
   "cell_type": "markdown",
   "metadata": {},
   "source": [
    "## 범주형 변수"
   ]
  },
  {
   "cell_type": "markdown",
   "metadata": {},
   "source": [
    "### level 확인"
   ]
  },
  {
   "cell_type": "code",
   "execution_count": 54,
   "metadata": {},
   "outputs": [
    {
     "name": "stdout",
     "output_type": "stream",
     "text": [
      "['Category', 'currency', 'Duration', 'endDay', 'Competitive']\n"
     ]
    }
   ],
   "source": [
    "print(category_list)"
   ]
  },
  {
   "cell_type": "code",
   "execution_count": 55,
   "metadata": {},
   "outputs": [
    {
     "data": {
      "text/plain": [
       "Category\n",
       "Music/Movie/Game        403\n",
       "Collectibles            239\n",
       "Toys/Hobbies            234\n",
       "Automotive              178\n",
       "Antique/Art/Craft       177\n",
       "SportingGoods           124\n",
       "Clothing/Accessories    119\n",
       "Home/Garden             102\n",
       "Jewelry                  82\n",
       "Health/Beauty            64\n",
       "Electronics              55\n",
       "Books                    54\n",
       "Coins/Stamps             37\n",
       "Computer                 36\n",
       "Pottery/Glass            20\n",
       "Business/Industrial      18\n",
       "EverythingElse           17\n",
       "Photography              13\n",
       "Name: count, dtype: int64"
      ]
     },
     "execution_count": 55,
     "metadata": {},
     "output_type": "execute_result"
    }
   ],
   "source": [
    "data['Category'].value_counts()"
   ]
  },
  {
   "cell_type": "code",
   "execution_count": 56,
   "metadata": {},
   "outputs": [
    {
     "data": {
      "text/plain": [
       "currency\n",
       "US     1292\n",
       "EUR     533\n",
       "GBP     147\n",
       "Name: count, dtype: int64"
      ]
     },
     "execution_count": 56,
     "metadata": {},
     "output_type": "execute_result"
    }
   ],
   "source": [
    "data['currency'].value_counts()"
   ]
  },
  {
   "cell_type": "code",
   "execution_count": 57,
   "metadata": {},
   "outputs": [
    {
     "data": {
      "text/plain": [
       "Duration\n",
       "7     967\n",
       "5     466\n",
       "10    303\n",
       "3     213\n",
       "1      23\n",
       "Name: count, dtype: int64"
      ]
     },
     "execution_count": 57,
     "metadata": {},
     "output_type": "execute_result"
    }
   ],
   "source": [
    "data['Duration'].value_counts()"
   ]
  },
  {
   "cell_type": "code",
   "execution_count": 58,
   "metadata": {},
   "outputs": [
    {
     "data": {
      "text/plain": [
       "endDay\n",
       "Mon    548\n",
       "Sat    351\n",
       "Sun    338\n",
       "Fri    287\n",
       "Thu    202\n",
       "Tue    171\n",
       "Wed     75\n",
       "Name: count, dtype: int64"
      ]
     },
     "execution_count": 58,
     "metadata": {},
     "output_type": "execute_result"
    }
   ],
   "source": [
    "data['endDay'].value_counts()"
   ]
  },
  {
   "cell_type": "code",
   "execution_count": 59,
   "metadata": {},
   "outputs": [
    {
     "data": {
      "text/plain": [
       "Competitive\n",
       "1    1066\n",
       "0     906\n",
       "Name: count, dtype: int64"
      ]
     },
     "execution_count": 59,
     "metadata": {},
     "output_type": "execute_result"
    }
   ],
   "source": [
    "data['Competitive'].value_counts()"
   ]
  },
  {
   "cell_type": "markdown",
   "metadata": {},
   "source": [
    "### 도수분포표"
   ]
  },
  {
   "cell_type": "code",
   "execution_count": 60,
   "metadata": {},
   "outputs": [
    {
     "data": {
      "image/png": "[encoded data removed]",
      "text/plain": [
       "<Figure size 1800x1000 with 5 Axes>"
      ]
     },
     "metadata": {},
     "output_type": "display_data"
    }
   ],
   "source": [
    "fig, axes = plt.subplots(2, 3, figsize=(18, 10))\n",
    "axes = axes.flatten()\n",
    "\n",
    "for i, var in enumerate(category_list):\n",
    "\tsns.countplot(x = var, data = data, ax = axes[i])\n",
    "\taxes[i].set_title(f'Count Plot of {var}', fontsize=14)\n",
    "\taxes[i].set_xlabel(var, fontsize = 12)\n",
    "\taxes[i].set_ylabel('Count', fontsize = 12)\n",
    "\tif var == 'Category':\n",
    "\t\taxes[i].tick_params(axis='x', rotation = 90)\n",
    "\n",
    "for j in range(i + 1, len(axes)):\n",
    "    fig.delaxes(axes[j])\n",
    "\n",
    "plt.tight_layout()\n",
    "plt.show()"
   ]
  },
  {
   "cell_type": "markdown",
   "metadata": {},
   "source": [
    "## 수치형 변수"
   ]
  },
  {
   "cell_type": "code",
   "execution_count": 61,
   "metadata": {},
   "outputs": [
    {
     "data": {
      "text/plain": [
       "['sellerRating', 'ClosePrice', 'OpenPrice']"
      ]
     },
     "execution_count": 61,
     "metadata": {},
     "output_type": "execute_result"
    }
   ],
   "source": [
    "numeric_list"
   ]
  },
  {
   "cell_type": "markdown",
   "metadata": {},
   "source": [
    "### 히스토그램"
   ]
  },
  {
   "cell_type": "code",
   "execution_count": 62,
   "metadata": {},
   "outputs": [
    {
     "data": {
      "image/png": "[encoded data removed]",
      "text/plain": [
       "<Figure size 1200x400 with 3 Axes>"
      ]
     },
     "metadata": {},
     "output_type": "display_data"
    }
   ],
   "source": [
    "plt.figure(figsize = (12, 4))\n",
    "\n",
    "for i, var in enumerate(numeric_list, start = 1):\n",
    "\tplt.subplot(1, 3, i)\n",
    "\tplt.hist(data[var], bins = 15, edgecolor = 'black')\n",
    "\tplt.title(f'{var}')\n",
    "plt.tight_layout()\n",
    "plt.show()"
   ]
  },
  {
   "cell_type": "markdown",
   "metadata": {},
   "source": [
    "### 상관관계 파악"
   ]
  },
  {
   "cell_type": "code",
   "execution_count": 63,
   "metadata": {},
   "outputs": [
    {
     "data": {
      "text/html": [
       "<div>\n",
       "<style scoped>\n",
       "    .dataframe tbody tr th:only-of-type {\n",
       "        vertical-align: middle;\n",
       "    }\n",
       "\n",
       "    .dataframe tbody tr th {\n",
       "        vertical-align: top;\n",
       "    }\n",
       "\n",
       "    .dataframe thead th {\n",
       "        text-align: right;\n",
       "    }\n",
       "</style>\n",
       "<table border=\"1\" class=\"dataframe\">\n",
       "  <thead>\n",
       "    <tr style=\"text-align: right;\">\n",
       "      <th></th>\n",
       "      <th>sellerRating</th>\n",
       "      <th>ClosePrice</th>\n",
       "      <th>OpenPrice</th>\n",
       "    </tr>\n",
       "  </thead>\n",
       "  <tbody>\n",
       "    <tr>\n",
       "      <th>sellerRating</th>\n",
       "      <td>1.000000</td>\n",
       "      <td>0.000158</td>\n",
       "      <td>-0.041111</td>\n",
       "    </tr>\n",
       "    <tr>\n",
       "      <th>ClosePrice</th>\n",
       "      <td>0.000158</td>\n",
       "      <td>1.000000</td>\n",
       "      <td>0.476932</td>\n",
       "    </tr>\n",
       "    <tr>\n",
       "      <th>OpenPrice</th>\n",
       "      <td>-0.041111</td>\n",
       "      <td>0.476932</td>\n",
       "      <td>1.000000</td>\n",
       "    </tr>\n",
       "  </tbody>\n",
       "</table>\n",
       "</div>"
      ],
      "text/plain": [
       "              sellerRating  ClosePrice  OpenPrice\n",
       "sellerRating      1.000000    0.000158  -0.041111\n",
       "ClosePrice        0.000158    1.000000   0.476932\n",
       "OpenPrice        -0.041111    0.476932   1.000000"
      ]
     },
     "execution_count": 63,
     "metadata": {},
     "output_type": "execute_result"
    }
   ],
   "source": [
    "data[numeric_list].corr()"
   ]
  },
  {
   "cell_type": "markdown",
   "metadata": {},
   "source": [
    "### 박스플롯 그리기"
   ]
  },
  {
   "cell_type": "code",
   "execution_count": 64,
   "metadata": {},
   "outputs": [
    {
     "data": {
      "image/png": "[encoded data removed]",
      "text/plain": [
       "<Figure size 1300x300 with 3 Axes>"
      ]
     },
     "metadata": {},
     "output_type": "display_data"
    }
   ],
   "source": [
    "fig, axes = plt.subplots(1, 3, figsize = (13, 3))\n",
    "axes = axes.flatten()\n",
    "for i, var in enumerate(numeric_list, start = 0):\n",
    "\tsns.boxplot(y = var, data = data, ax = axes[i])\n",
    "\taxes[i].set_title(f\"{var}\")\n",
    "plt.tight_layout()\n",
    "plt.show()"
   ]
  },
  {
   "cell_type": "markdown",
   "metadata": {},
   "source": [
    "## 결론\n",
    "* 수치형 변수에서 이상치에 해당하는 값 발생.\n",
    "* sellerRating, Closeprice, OpenPrice에 각각 이상치에 해당하는 값 발생.\n",
    "* 어떻게 처리할지 고민해야 함."
   ]
  },
  {
   "cell_type": "markdown",
   "metadata": {},
   "source": [
    "# 이상치 제거\n",
    "* (99백분위수) * 2를 넘는 값을 처리\n",
    "* sellerRating : 10 이하 값 제거"
   ]
  },
  {
   "cell_type": "code",
   "execution_count": 65,
   "metadata": {},
   "outputs": [
    {
     "name": "stdout",
     "output_type": "stream",
     "text": [
      "sellerRating : 54264.0\n",
      "ClosePrice : 1014.3733999433689\n",
      "OpenPrice : 265.15999999999985\n"
     ]
    }
   ],
   "source": [
    "threshold = []\n",
    "for i, var in enumerate(numeric_list):\n",
    "\tpercentile_99 = np.percentile(data[var], 99)\n",
    "\tresult = 2 * percentile_99\n",
    "\tthreshold.append(result)\n",
    "\tprint(f\"{var} : {result}\")"
   ]
  },
  {
   "cell_type": "code",
   "execution_count": 66,
   "metadata": {},
   "outputs": [],
   "source": [
    "for i, var in enumerate(numeric_list):\n",
    "\tdata = data[data[var] <= threshold[i]]"
   ]
  },
  {
   "cell_type": "code",
   "execution_count": 67,
   "metadata": {},
   "outputs": [],
   "source": [
    "data = data[data['sellerRating'] >= 10]"
   ]
  },
  {
   "cell_type": "code",
   "execution_count": 68,
   "metadata": {},
   "outputs": [
    {
     "name": "stdout",
     "output_type": "stream",
     "text": [
      "<class 'pandas.core.frame.DataFrame'>\n",
      "Index: 1936 entries, 0 to 1966\n",
      "Data columns (total 8 columns):\n",
      " #   Column        Non-Null Count  Dtype   \n",
      "---  ------        --------------  -----   \n",
      " 0   Category      1936 non-null   object  \n",
      " 1   currency      1936 non-null   object  \n",
      " 2   sellerRating  1936 non-null   int64   \n",
      " 3   Duration      1936 non-null   category\n",
      " 4   endDay        1936 non-null   object  \n",
      " 5   ClosePrice    1936 non-null   float64 \n",
      " 6   OpenPrice     1936 non-null   float64 \n",
      " 7   Competitive   1936 non-null   category\n",
      "dtypes: category(2), float64(2), int64(1), object(3)\n",
      "memory usage: 110.0+ KB\n"
     ]
    }
   ],
   "source": [
    "data.info()"
   ]
  },
  {
   "cell_type": "markdown",
   "metadata": {},
   "source": [
    "## 표본 추출\n",
    "* 모형 구축을 위해 Competitive가 0인 자료와 1인 자료의 비율을 비교\n",
    "* 0과 1의 비율이 비슷하기 때문에 가중치를 넣을 필요는 없을 듯하다."
   ]
  },
  {
   "cell_type": "code",
   "execution_count": 69,
   "metadata": {},
   "outputs": [
    {
     "name": "stdout",
     "output_type": "stream",
     "text": [
      "             Frequency  Percentage  Cumul Freq  Cumul Percent\n",
      "Competitive                                                  \n",
      "0                  898       46.38         898          46.38\n",
      "1                 1038       53.62        1936         100.00\n"
     ]
    }
   ],
   "source": [
    "frequency = data['Competitive'].value_counts().sort_index()\n",
    "percentage = np.round(data['Competitive'].value_counts(normalize=True).sort_index() * 100, 2)\n",
    "cumulative_frequency = frequency.cumsum()\n",
    "cumulative_percentage = percentage.cumsum()\n",
    "\n",
    "result = pd.DataFrame({\n",
    "    'Frequency': frequency,\n",
    "    'Percentage': percentage,\n",
    "    'Cumul Freq': cumulative_frequency,\n",
    "    'Cumul Percent': cumulative_percentage\n",
    "})\n",
    "print(result)\n"
   ]
  },
  {
   "cell_type": "markdown",
   "metadata": {},
   "source": [
    "# 새로운 변수 추가"
   ]
  },
  {
   "cell_type": "code",
   "execution_count": 70,
   "metadata": {},
   "outputs": [],
   "source": [
    "data['diffPrice'] = data['ClosePrice'] - data['OpenPrice']\n",
    "data['diffRatio'] = data['ClosePrice'] / data['OpenPrice']"
   ]
  },
  {
   "cell_type": "code",
   "execution_count": 71,
   "metadata": {},
   "outputs": [],
   "source": [
    "data['PriceRatio'] = (data['ClosePrice'] - data['OpenPrice']) / data['OpenPrice']"
   ]
  },
  {
   "cell_type": "code",
   "execution_count": 72,
   "metadata": {},
   "outputs": [
    {
     "data": {
      "text/plain": [
       "0    5\n",
       "1    5\n",
       "2    5\n",
       "3    5\n",
       "4    5\n",
       "Name: Duration, dtype: category\n",
       "Categories (5, int64): [1, 3, 5, 7, 10]"
      ]
     },
     "execution_count": 72,
     "metadata": {},
     "output_type": "execute_result"
    }
   ],
   "source": [
    "data['Duration'].head()"
   ]
  },
  {
   "cell_type": "code",
   "execution_count": 73,
   "metadata": {},
   "outputs": [],
   "source": [
    "data['Duration2'] = data['Duration'].cat.codes"
   ]
  },
  {
   "cell_type": "code",
   "execution_count": 74,
   "metadata": {},
   "outputs": [],
   "source": [
    "data['diffPriceDay'] = (data['ClosePrice'] - data['OpenPrice']) / data['Duration2']\n",
    "del data['Duration2']"
   ]
  },
  {
   "cell_type": "code",
   "execution_count": 75,
   "metadata": {},
   "outputs": [
    {
     "data": {
      "text/plain": [
       "10"
      ]
     },
     "execution_count": 75,
     "metadata": {},
     "output_type": "execute_result"
    }
   ],
   "source": [
    "data['diffPriceDay'].isnull().sum()"
   ]
  },
  {
   "cell_type": "code",
   "execution_count": 76,
   "metadata": {},
   "outputs": [],
   "source": [
    "data['peekDay'] = data['endDay'].apply(lambda x: '1' if x in ['Mon', 'Sun', 'Sat', 'Fri'] else '0')"
   ]
  },
  {
   "cell_type": "code",
   "execution_count": 77,
   "metadata": {},
   "outputs": [],
   "source": [
    "data = data.dropna(subset=['diffPriceDay'])"
   ]
  },
  {
   "cell_type": "code",
   "execution_count": 78,
   "metadata": {},
   "outputs": [
    {
     "name": "stdout",
     "output_type": "stream",
     "text": [
      "<class 'pandas.core.frame.DataFrame'>\n",
      "Index: 1926 entries, 0 to 1966\n",
      "Data columns (total 13 columns):\n",
      " #   Column        Non-Null Count  Dtype   \n",
      "---  ------        --------------  -----   \n",
      " 0   Category      1926 non-null   object  \n",
      " 1   currency      1926 non-null   object  \n",
      " 2   sellerRating  1926 non-null   int64   \n",
      " 3   Duration      1926 non-null   category\n",
      " 4   endDay        1926 non-null   object  \n",
      " 5   ClosePrice    1926 non-null   float64 \n",
      " 6   OpenPrice     1926 non-null   float64 \n",
      " 7   Competitive   1926 non-null   category\n",
      " 8   diffPrice     1926 non-null   float64 \n",
      " 9   diffRatio     1926 non-null   float64 \n",
      " 10  PriceRatio    1926 non-null   float64 \n",
      " 11  diffPriceDay  1926 non-null   float64 \n",
      " 12  peekDay       1926 non-null   object  \n",
      "dtypes: category(2), float64(6), int64(1), object(4)\n",
      "memory usage: 184.7+ KB\n"
     ]
    }
   ],
   "source": [
    "data.info()"
   ]
  },
  {
   "cell_type": "markdown",
   "metadata": {},
   "source": [
    "## 카이제곱검정 시행\n",
    "* 수치형 변수에 대한 검정 시행\n",
    "* 기존 변수 3개 (sellerRating, ClosePrice, OpenPrice)\n",
    "* 새로운 변수 4개 (diffPrice, diffRatio, PriceRatio, diffPriceDay)"
   ]
  },
  {
   "cell_type": "code",
   "execution_count": 79,
   "metadata": {},
   "outputs": [],
   "source": [
    "from scipy.stats import chi2_contingency\n",
    "\n",
    "def chi_square_test(df, target, variable):\n",
    "    contingency_table = pd.crosstab(df[target], df[variable])\n",
    "    chi2, p, dof, expected = chi2_contingency(contingency_table)\n",
    "    return chi2, p"
   ]
  },
  {
   "cell_type": "code",
   "execution_count": 80,
   "metadata": {},
   "outputs": [
    {
     "data": {
      "text/plain": [
       "['sellerRating',\n",
       " 'ClosePrice',\n",
       " 'OpenPrice',\n",
       " 'diffPrice',\n",
       " 'diffRatio',\n",
       " 'PriceRatio',\n",
       " 'diffPriceDay']"
      ]
     },
     "execution_count": 80,
     "metadata": {},
     "output_type": "execute_result"
    }
   ],
   "source": [
    "columns = data.select_dtypes(include = np.number).columns.tolist()\n",
    "columns"
   ]
  },
  {
   "cell_type": "code",
   "execution_count": 89,
   "metadata": {},
   "outputs": [],
   "source": [
    "results = []\n",
    "for column in columns:\n",
    "\tchi2, p = chi_square_test(data, 'Competitive', column)\n",
    "\tresults.append((column, chi2, p))"
   ]
  },
  {
   "cell_type": "code",
   "execution_count": 90,
   "metadata": {},
   "outputs": [
    {
     "name": "stdout",
     "output_type": "stream",
     "text": [
      "         Effect  Score Chi-Square    Pr > ChiSq\n",
      "0  sellerRating        952.482849  1.592320e-39\n",
      "1    ClosePrice       1533.196169  1.126891e-45\n",
      "2     OpenPrice       1062.010580  1.259446e-34\n",
      "3     diffPrice       1780.790521  4.265964e-75\n",
      "4     diffRatio       1772.875848  3.104136e-66\n",
      "5    PriceRatio       1776.095376  1.725428e-65\n",
      "6  diffPriceDay       1777.746416  7.833269e-66\n"
     ]
    }
   ],
   "source": [
    "results_df = pd.DataFrame(results, columns=['Effect', 'Score Chi-Square', 'Pr > ChiSq'])\n",
    "print(results_df)"
   ]
  },
  {
   "cell_type": "markdown",
   "metadata": {},
   "source": [
    "## 범주형 변수의 지시변수화"
   ]
  },
  {
   "cell_type": "code",
   "execution_count": null,
   "metadata": {},
   "outputs": [],
   "source": [
    "data['sellerRating_low1']\n",
    "data['sellerRating_low2']"
   ]
  },
  {
   "cell_type": "code",
   "execution_count": null,
   "metadata": {},
   "outputs": [],
   "source": [
    "data['ClosePrice_low']"
   ]
  },
  {
   "cell_type": "code",
   "execution_count": null,
   "metadata": {},
   "outputs": [],
   "source": [
    "data['OpenPrice_low1']\n",
    "data['OpenPrice_low2']"
   ]
  },
  {
   "cell_type": "markdown",
   "metadata": {},
   "source": [
    "# 변수선정 및 적합"
   ]
  },
  {
   "cell_type": "markdown",
   "metadata": {},
   "source": [
    "## 데이터 나누기"
   ]
  },
  {
   "cell_type": "code",
   "execution_count": null,
   "metadata": {},
   "outputs": [],
   "source": []
  },
  {
   "cell_type": "code",
   "execution_count": null,
   "metadata": {},
   "outputs": [],
   "source": []
  }
 ],
 "metadata": {
  "kernelspec": {
   "display_name": "Python 3",
   "language": "python",
   "name": "python3"
  },
  "language_info": {
   "codemirror_mode": {
    "name": "ipython",
    "version": 3
   },
   "file_extension": ".py",
   "mimetype": "text/x-python",
   "name": "python",
   "nbconvert_exporter": "python",
   "pygments_lexer": "ipython3",
   "version": "3.10.12"
  }
 },
 "nbformat": 4,
 "nbformat_minor": 2
}
